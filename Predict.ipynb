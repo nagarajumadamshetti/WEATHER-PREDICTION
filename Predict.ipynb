{
 "cells": [
  {
   "cell_type": "code",
   "execution_count": 2,
   "metadata": {},
   "outputs": [
    {
     "name": "stdout",
     "output_type": "stream",
     "text": [
      "[[   1   21    9   12    8  100   46 1022 1018    2    0   14]]\n",
      "\n",
      " [[0.00100809 0.00267067 0.9934987  0.00282252]]\n"
     ]
    }
   ],
   "source": [
    "from keras.models import model_from_json\n",
    "import numpy as np\n",
    "\n",
    "pre_data = np.loadtxt('predict.txt')\n",
    "model = model_from_json(open('model_architecture.json').read())\n",
    "model.load_weights('weights.h5')\n",
    "model.compile(loss='binary_crossentropy', optimizer='adam', metrics=['accuracy'])\n",
    "pre_data = pre_data.astype('int32')\n",
    "pre_data = pre_data.reshape(1,12)\n",
    "\n",
    "print(pre_data)\n",
    "\n",
    "ans = model.predict(x=pre_data)\n",
    "\n",
    "print('\\n',ans)\n",
    "\n",
    "\n"
   ]
  },
  {
   "cell_type": "code",
   "execution_count": null,
   "metadata": {},
   "outputs": [],
   "source": []
  },
  {
   "cell_type": "code",
   "execution_count": null,
   "metadata": {},
   "outputs": [],
   "source": []
  }
 ],
 "metadata": {
  "kernelspec": {
   "display_name": "Python 3",
   "language": "python",
   "name": "python3"
  },
  "language_info": {
   "codemirror_mode": {
    "name": "ipython",
    "version": 3
   },
   "file_extension": ".py",
   "mimetype": "text/x-python",
   "name": "python",
   "nbconvert_exporter": "python",
   "pygments_lexer": "ipython3",
   "version": "3.6.5"
  }
 },
 "nbformat": 4,
 "nbformat_minor": 2
}
